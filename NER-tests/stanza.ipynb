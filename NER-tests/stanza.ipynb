{
  "nbformat": 4,
  "nbformat_minor": 0,
  "metadata": {
    "colab": {
      "name": "stanza.ipynb",
      "provenance": [],
      "collapsed_sections": []
    },
    "kernelspec": {
      "name": "python3",
      "display_name": "Python 3"
    },
    "language_info": {
      "name": "python"
    }
  },
  "cells": [
    {
      "cell_type": "code",
      "metadata": {
        "id": "ZYYEidEFkM_8"
      },
      "source": [
        "!pip install stanza"
      ],
      "execution_count": null,
      "outputs": []
    },
    {
      "cell_type": "code",
      "metadata": {
        "colab": {
          "base_uri": "https://localhost:8080/"
        },
        "id": "dHHX6Rr6mO5T",
        "outputId": "490605e1-e543-49c8-e3ef-7c30913787fa"
      },
      "source": [
        "# this finding of dependencies might be useful for identifying relationships (see: identification of \"root\")\n",
        "import stanza\n",
        "# stanza.download('en')       # This downloads the English models for the neural pipeline\n",
        "\n",
        "nlp = stanza.Pipeline('en') # This sets up a default neural pipeline in English\n",
        "doc = nlp(\"Barack Obama was born in Hawaii.  He was elected president in 2008.\")\n",
        "doc.sentences[1].print_dependencies()"
      ],
      "execution_count": 10,
      "outputs": [
        {
          "output_type": "stream",
          "name": "stderr",
          "text": [
            "2021-11-03 03:07:00 INFO: Loading these models for language: en (English):\n",
            "============================\n",
            "| Processor    | Package   |\n",
            "----------------------------\n",
            "| tokenize     | combined  |\n",
            "| pos          | combined  |\n",
            "| lemma        | combined  |\n",
            "| depparse     | combined  |\n",
            "| sentiment    | sstplus   |\n",
            "| constituency | wsj       |\n",
            "| ner          | ontonotes |\n",
            "============================\n",
            "\n",
            "2021-11-03 03:07:00 INFO: Use device: cpu\n",
            "2021-11-03 03:07:00 INFO: Loading: tokenize\n",
            "2021-11-03 03:07:00 INFO: Loading: pos\n",
            "2021-11-03 03:07:00 INFO: Loading: lemma\n",
            "2021-11-03 03:07:00 INFO: Loading: depparse\n",
            "2021-11-03 03:07:00 INFO: Loading: sentiment\n",
            "2021-11-03 03:07:01 INFO: Loading: constituency\n",
            "2021-11-03 03:07:02 INFO: Loading: ner\n",
            "2021-11-03 03:07:02 INFO: Done loading processors!\n",
            "/usr/local/lib/python3.7/dist-packages/torch/nn/functional.py:652: UserWarning: Named tensors and all their associated APIs are an experimental feature and subject to change. Please do not use them for anything important until they are released as stable. (Triggered internally at  /pytorch/c10/core/TensorImpl.h:1156.)\n",
            "  return torch.max_pool1d(input, kernel_size, stride, padding, dilation, ceil_mode)\n"
          ]
        },
        {
          "output_type": "stream",
          "name": "stdout",
          "text": [
            "('He', 3, 'nsubj:pass')\n",
            "('was', 3, 'aux:pass')\n",
            "('elected', 0, 'root')\n",
            "('president', 3, 'xcomp')\n",
            "('in', 6, 'case')\n",
            "('2008', 3, 'obl')\n",
            "('.', 3, 'punct')\n"
          ]
        }
      ]
    },
    {
      "cell_type": "code",
      "metadata": {
        "colab": {
          "base_uri": "https://localhost:8080/"
        },
        "id": "KJl4apGls-7T",
        "outputId": "5cd2c3e3-da99-4ce0-b1e1-b3a436bee4af"
      },
      "source": [
        "# Base use for NER\n",
        "import stanza\n",
        "\n",
        "nlp = stanza.Pipeline(lang='en', processors='tokenize,ner')\n",
        "doc = nlp(\"Chris Manning teaches at Stanford University. He lives in the Bay Area.\")\n",
        "print(*[f'{ent.type} {ent.text}' for ent in doc.ents], sep='\\n')"
      ],
      "execution_count": 11,
      "outputs": [
        {
          "output_type": "stream",
          "name": "stderr",
          "text": [
            "2021-11-03 03:07:05 INFO: Loading these models for language: en (English):\n",
            "=========================\n",
            "| Processor | Package   |\n",
            "-------------------------\n",
            "| tokenize  | combined  |\n",
            "| ner       | ontonotes |\n",
            "=========================\n",
            "\n",
            "2021-11-03 03:07:05 INFO: Use device: cpu\n",
            "2021-11-03 03:07:05 INFO: Loading: tokenize\n",
            "2021-11-03 03:07:05 INFO: Loading: ner\n",
            "2021-11-03 03:07:06 INFO: Done loading processors!\n"
          ]
        },
        {
          "output_type": "stream",
          "name": "stdout",
          "text": [
            "PERSON Chris Manning\n",
            "ORG Stanford University\n",
            "LOC the Bay Area\n"
          ]
        }
      ]
    },
    {
      "cell_type": "code",
      "metadata": {
        "colab": {
          "base_uri": "https://localhost:8080/"
        },
        "id": "turjb5w1tpPs",
        "outputId": "ef8e478a-637a-4041-8278-cdd70afb2209"
      },
      "source": [
        "# test with our input\n",
        "import stanza\n",
        "\n",
        "import nltk\n",
        "from nltk.tokenize import word_tokenize, sent_tokenize\n",
        "# nltk.download('punkt')\n",
        "# nltk.download('averaged_perceptron_tagger')\n",
        "\n",
        "with open('text1-chunk.txt', 'r') as file:\n",
        "    text = file.read()\n",
        "\n",
        "sentences = sent_tokenize(text)\n",
        "\n",
        "for i in range(len(sentences)):\n",
        "  doc = nlp(sentences[i])\n",
        "  print(sentences[i])\n",
        "  print(*[f'{ent.type} {ent.text}' for ent in doc.ents], sep='\\n')\n",
        "  print('\\n' + '-------')\n"
      ],
      "execution_count": 13,
      "outputs": [
        {
          "output_type": "stream",
          "name": "stdout",
          "text": [
            "The Aidonia Treasure is a collection of Mycenaean gold and jewelry returned to Greece in 1996 and thought to have been robbed from a cemetery at Aidonia in the late 1970s.\n",
            "ORG The Aidonia Treasure\n",
            "NORP Mycenaean\n",
            "GPE Greece\n",
            "DATE 1996\n",
            "GPE Aidonia\n",
            "DATE the late 1970s\n",
            "\n",
            "-------\n",
            "Aidonia is a village ten kilometres northwest of Nemea in the northeastern Peloponnesian district of Corinthia in Greece.\n",
            "GPE Aidonia\n",
            "QUANTITY ten kilometres\n",
            "GPE Nemea\n",
            "GPE Peloponnesian\n",
            "GPE Corinthia\n",
            "GPE Greece\n",
            "\n",
            "-------\n",
            "In November 1976, a Mycenaean (fifteenth-century BC) cemetery was discovered not far from the village, and the tombs were dug out illegally by local archaiokapiloi (a term used for looters in Greece).\n",
            "DATE November 1976\n",
            "GPE Mycenaean\n",
            "DATE fifteenth-century\n",
            "GPE Greece\n",
            "\n",
            "-------\n",
            "There were reports of a gun battle between rival gangs of archaiokapiloi, and evidence that local government officials had sanctioned and even participated in the plunder.\n",
            "\n",
            "\n",
            "-------\n",
            "Looted objects were rumoured to have been smuggled out of Greece hidden in watermelons.\n",
            "GPE Greece\n",
            "\n",
            "-------\n",
            "In November 1977, the Greek Archaeological Service assigned a guard to the site, and in Spring 1978 it commenced official excavations.\n",
            "DATE November 1977\n",
            "ORG the Greek Archaeological Service\n",
            "DATE Spring 1978\n",
            "\n",
            "-------\n",
            "Twenty chamber tombs were discovered, but only two had survived untouched.\n",
            "CARDINAL Twenty\n",
            "CARDINAL two\n",
            "\n",
            "-------\n",
            "The remaining eighteen tombs had been largely emptied of their contents, though in one, the looters had overlooked a pit dug into the floor of the tomb.\n",
            "CARDINAL eighteen\n",
            "CARDINAL one\n",
            "\n",
            "-------\n",
            "After excavation, it was found to contain an assemblage of gold jewelry.\n",
            "\n",
            "\n",
            "-------\n",
            "(Mycenaean chamber tombs typically contain several interments and may be richly furnished with pottery, metalwork and jewelry).\n",
            "\n",
            "\n",
            "-------\n",
            "Nothing much was heard outside Greece about the plundered Aidonia cemetery until April 1993, when New York’s Michael Ward Gallery offered on display for sale a collection comprising approximately fifty items of Mycenean gold jewelry and sealstones.\n",
            "GPE Greece\n",
            "GPE Aidonia\n",
            "DATE April 1993\n",
            "GPE New York\n",
            "ORG Michael Ward Gallery\n",
            "CARDINAL approximately fifty\n",
            "PRODUCT Mycenean\n",
            "\n",
            "-------\n",
            "A catalogue accompanying the display entitled Gold of the Mycenaeans, with an introduction and object descriptions by archaeologist John Betts, could only offer ‘a European collector’ for provenance.\n",
            "WORK_OF_ART Gold of the Mycenaeans\n",
            "PERSON John Betts\n",
            "NORP European\n",
            "\n",
            "-------\n",
            "Potential customers were reassured by the catalogue, however, that gold analyses conducted by Jack Ogden of the Cambridge Centre for Precious Metal Research had guaranteed the authenticity of the material, and that in reply to a written enquiry the Greek Ministry of Culture had confirmed that the material was not stolen.\n",
            "PERSON Jack Ogden\n",
            "ORG the Cambridge Centre for Precious Metal Research\n",
            "ORG the Greek Ministry of Culture\n",
            "\n",
            "-------\n",
            "The asking price for the assemblage was US$1.5 million.\n",
            "MONEY US$1.5 million\n",
            "\n",
            "-------\n",
            "On 4 April 1993, the display was trailed in the New York Times, where the objects were described as ‘rare gold baubles: small, ancient and radiant’.\n",
            "DATE 4 April 1993\n",
            "ORG the New York Times\n",
            "\n",
            "-------\n",
            "Two days later, on 6 April, archaeologist Ricardo Elia alerted the Consul General of Greece in New York to the material on display.\n",
            "DATE Two days later\n",
            "DATE 6 April\n",
            "PERSON Ricardo Elia\n",
            "ORG the Consul General of Greece\n",
            "GPE New York\n",
            "\n",
            "-------\n",
            "On 27 April 1993, archaeologist James Wright, who had worked at Nemea, informed the Greek Archaeological Service of his suspicion that the material might have been looted from Aidonia.\n",
            "DATE 27 April 1993\n",
            "PERSON James Wright\n",
            "ORG Nemea\n",
            "ORG the Greek Archaeological Service\n",
            "GPE Aidonia\n",
            "\n",
            "-------\n",
            "After obtaining a copy of the catalogue, the Greek Ministry of Culture convened a committee of experts to investigate the possible origin of the material.\n",
            "ORG the Greek Ministry of Culture\n",
            "\n",
            "-------\n"
          ]
        }
      ]
    },
    {
      "cell_type": "code",
      "metadata": {
        "colab": {
          "base_uri": "https://localhost:8080/"
        },
        "id": "wQ0r8C9-vAQX",
        "outputId": "1e041b8f-0c77-4d5c-a12d-917a1010353c"
      },
      "source": [
        "!pip install nltk"
      ],
      "execution_count": 2,
      "outputs": [
        {
          "output_type": "stream",
          "name": "stdout",
          "text": [
            "Requirement already satisfied: nltk in /usr/local/lib/python3.7/dist-packages (3.2.5)\n",
            "Requirement already satisfied: six in /usr/local/lib/python3.7/dist-packages (from nltk) (1.15.0)\n"
          ]
        }
      ]
    }
  ]
}