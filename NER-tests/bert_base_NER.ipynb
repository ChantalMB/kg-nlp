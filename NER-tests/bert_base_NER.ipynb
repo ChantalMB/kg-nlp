{
  "nbformat": 4,
  "nbformat_minor": 0,
  "metadata": {
    "colab": {
      "name": "bert-base-NER.ipynb",
      "provenance": [],
      "collapsed_sections": []
    },
    "kernelspec": {
      "name": "python3",
      "display_name": "Python 3"
    },
    "language_info": {
      "name": "python"
    }
  },
  "cells": [
    {
      "cell_type": "code",
      "metadata": {
        "id": "DxO8M4AJMmTn"
      },
      "source": [
        "!pip3 install transformers"
      ],
      "execution_count": null,
      "outputs": []
    },
    {
      "cell_type": "code",
      "metadata": {
        "colab": {
          "base_uri": "https://localhost:8080/"
        },
        "id": "f2ZnzdSLManG",
        "outputId": "e6425e51-0ce0-471d-cce6-7e96aef6156a"
      },
      "source": [
        "# example from: https://huggingface.co/dslim/bert-base-NER.\n",
        "from transformers import AutoTokenizer, AutoModelForTokenClassification\n",
        "from transformers import pipeline\n",
        "\n",
        "tokenizer = AutoTokenizer.from_pretrained(\"dslim/bert-base-NER\")\n",
        "model = AutoModelForTokenClassification.from_pretrained(\"dslim/bert-base-NER\")\n",
        "\n",
        "nlp = pipeline(\"ner\", model=model, tokenizer=tokenizer)\n",
        "example = \"My name is Wolfgang and I live in Berlin\"\n",
        "\n",
        "ner_results = nlp(example)\n",
        "\n",
        "for i in ner_results:\n",
        "  print(i)"
      ],
      "execution_count": 4,
      "outputs": [
        {
          "output_type": "stream",
          "name": "stdout",
          "text": [
            "{'entity': 'B-PER', 'score': 0.99901396, 'index': 4, 'word': 'Wolfgang', 'start': 11, 'end': 19}\n",
            "{'entity': 'B-LOC', 'score': 0.999645, 'index': 9, 'word': 'Berlin', 'start': 34, 'end': 40}\n"
          ]
        }
      ]
    },
    {
      "cell_type": "code",
      "metadata": {
        "colab": {
          "base_uri": "https://localhost:8080/"
        },
        "id": "aWE3dXiQPieO",
        "outputId": "45c5867a-1e7b-4234-a8ff-a8bd059485d7"
      },
      "source": [
        "# attempt at also pulling relationship from simple sentences\n",
        "\n",
        "from transformers import AutoTokenizer, AutoModelForTokenClassification\n",
        "from transformers import pipeline\n",
        "\n",
        "from nltk.tokenize import word_tokenize\n",
        "# nltk.download('punkt')\n",
        "# nltk.download('averaged_perceptron_tagger')\n",
        "import re\n",
        "\n",
        "tokenizer = AutoTokenizer.from_pretrained(\"dslim/bert-base-NER\")\n",
        "model = AutoModelForTokenClassification.from_pretrained(\"dslim/bert-base-NER\")\n",
        "\n",
        "nlp = pipeline(\"ner\", model=model, tokenizer=tokenizer)\n",
        "example = \"My name is Sarah and I live in London\"\n",
        "\n",
        "ner_results = nlp(example)\n",
        "\n",
        "ner_words = []\n",
        "\n",
        "# identify \"start\" word and \"end\" word\n",
        "for i in ner_results:\n",
        "  word = i.get('word')\n",
        "  ner_words.append(word)\n",
        "\n",
        "# find what is between start and end word\n",
        "tagging_prep = re.search(ner_words[0] + ' (.*)' + ner_words[1], example)\n",
        "\n",
        "to_tokenize = tagging_prep.group(1)\n",
        "\n",
        "# tokenize and tag this phrase\n",
        "text = word_tokenize(to_tokenize)\n",
        "pos = nltk.pos_tag(text)\n",
        "\n",
        "\n",
        "# find verbs and associated subordinating conjunctions (IN)/to (TO)\n",
        "\n",
        "verb_types = ['VB', 'VBD', 'VBG', 'VBN', 'VBP', 'VBZ']\n",
        "relationship = ''\n",
        "for i in range(len(pos)):\n",
        "  if pos[i][1] in verb_types:\n",
        "    relationship = relationship + pos[i][0]\n",
        "    if pos[i+1][1] == 'IN' or 'TO':\n",
        "      relationship = relationship + '_' + pos[i+1][0]\n",
        "\n",
        "\n",
        "# form triple\n",
        "triple = [ner_words[0], relationship, ner_words[1]]\n",
        "\n",
        "print(triple)\n"
      ],
      "execution_count": 33,
      "outputs": [
        {
          "output_type": "stream",
          "name": "stdout",
          "text": [
            "['Sarah', 'live_in', 'London']\n"
          ]
        }
      ]
    },
    {
      "cell_type": "code",
      "metadata": {
        "colab": {
          "base_uri": "https://localhost:8080/"
        },
        "id": "rOkbhQvtXooB",
        "outputId": "ca7e55d1-7466-43c5-fb8b-146411d05387"
      },
      "source": [
        "# see what NER outputs for more complex sentences\n",
        "from transformers import AutoTokenizer, AutoModelForTokenClassification\n",
        "from transformers import pipeline\n",
        "\n",
        "from nltk.tokenize import word_tokenize, sent_tokenize\n",
        "# nltk.download('punkt')\n",
        "# nltk.download('averaged_perceptron_tagger')\n",
        "\n",
        "with open('text1-chunk.txt', 'r') as file:\n",
        "    data = file.read()\n",
        "\n",
        "\n",
        "tokenizer = AutoTokenizer.from_pretrained(\"dslim/bert-base-NER\")\n",
        "model = AutoModelForTokenClassification.from_pretrained(\"dslim/bert-base-NER\")\n",
        "\n",
        "nlp = pipeline(\"ner\", model=model, tokenizer=tokenizer)\n",
        "\n",
        "data = sent_tokenize(data)\n",
        "\n",
        "for i in data:\n",
        "  ner_results = nlp(i)\n",
        "\n",
        "  ner_words = []\n",
        "\n",
        "  # identify \"start\" word and \"end\" word\n",
        "  for j in ner_results:\n",
        "    word = j.get('entity') + ' ' + j.get('word')\n",
        "    ner_words.append(word)\n",
        "\n",
        "  print(i)\n",
        "  print(ner_words)\n",
        "  print('\\n')"
      ],
      "execution_count": 41,
      "outputs": [
        {
          "output_type": "stream",
          "name": "stdout",
          "text": [
            "Trafficking Culture - Researching the global traffic in looted objects   The Aidonia Treasure is a collection of Mycenaean gold and jewelry returned to Greece in 1996 and thought to have been robbed from a cemetery at Aidonia in the late 1970s.\n",
            "['B-LOC Aid', 'I-LOC ##onia', 'I-MISC Treasure', 'B-MISC My', 'I-MISC ##ce', 'I-MISC ##nae', 'I-MISC ##an', 'B-LOC Greece', 'B-LOC Aid', 'I-LOC ##onia']\n",
            "\n",
            "\n",
            "Aidonia is a village ten kilometres northwest of Nemea in the northeastern Peloponnesian district of Corinthia in Greece.\n",
            "['B-LOC Aid', 'I-LOC ##onia', 'B-LOC N', 'I-LOC ##em', 'I-LOC ##ea', 'B-MISC P', 'B-MISC ##elo', 'I-MISC ##po', 'I-MISC ##nnes', 'I-MISC ##ian', 'B-LOC Co', 'I-LOC ##rin', 'I-LOC ##thi', 'I-LOC ##a', 'B-LOC Greece']\n",
            "\n",
            "\n",
            "In November 1976, a Mycenaean (fifteenth-century BC) cemetery was discovered not far from the village, and the tombs were dug out illegally by local archaiokapiloi (a term used for looters in Greece) (Miller 1997: 40; Waxman 2007: 347).\n",
            "['B-MISC My', 'I-MISC ##ce', 'I-MISC ##nae', 'I-MISC ##an', 'B-MISC BC', 'B-LOC Greece', 'B-PER Miller', 'B-PER W', 'I-PER ##ax']\n",
            "\n",
            "\n",
            "There were reports of a gun battle between rival gangs of archaiokapiloi, and evidence that local government officials had sanctioned and even participated in the plunder (Miller 1997: 43; Waxman 2008: 347).\n",
            "['B-PER ##lo', 'B-PER Miller', 'B-PER W']\n",
            "\n",
            "\n",
            "Looted objects were rumoured to have been smuggled out of Greece hidden in watermelons (Miller 1997: 41).\n",
            "['B-LOC Greece', 'B-PER Miller']\n",
            "\n",
            "\n",
            "In November 1977, the Greek Archaeological Service assigned a guard to the site, and in Spring 1978 it commenced official excavations.\n",
            "['B-ORG Greek', 'I-ORG Archaeological', 'I-ORG Service']\n",
            "\n",
            "\n",
            "Twenty chamber tombs were discovered, but only two had survived untouched.\n",
            "[]\n",
            "\n",
            "\n",
            "The remaining eighteen tombs had been largely emptied of their contents, though in one (Tomb 7), the looters had overlooked a pit dug into the floor of the tomb.\n",
            "['I-MISC 7']\n",
            "\n",
            "\n",
            "After excavation, it was found to contain an assemblage of gold jewelry (Krystalli-Votsi 1996).\n",
            "['B-PER K', 'I-LOC ##ry', 'B-PER V', 'I-PER ##ots']\n",
            "\n",
            "\n",
            "(Mycenaean chamber tombs typically contain several interments and may be richly furnished with pottery, metalwork and jewelry).\n",
            "['B-MISC My', 'I-MISC ##ce', 'I-MISC ##nae', 'I-MISC ##an']\n",
            "\n",
            "\n",
            "Nothing much was heard outside Greece about the plundered Aidonia cemetery until April 1993, when New York’s Michael Ward Gallery offered on display for sale a collection comprising approximately fifty items of Mycenean gold jewelry and sealstones.\n",
            "['B-LOC Greece', 'B-LOC Aid', 'I-LOC ##onia', 'B-LOC New', 'I-LOC York', 'B-ORG Michael', 'I-ORG Ward', 'I-ORG Gallery', 'B-MISC My', 'I-MISC ##cene', 'I-MISC ##an']\n",
            "\n",
            "\n",
            "A catalogue accompanying the display entitled Gold of the Mycenaeans, with an introduction and object descriptions by archaeologist John Betts, could only offer ‘a European collector’ for provenance.\n",
            "['B-MISC Gold', 'I-MISC of', 'I-MISC the', 'I-MISC My', 'I-MISC ##ce', 'I-MISC ##nae', 'I-MISC ##ans', 'B-PER John', 'I-PER Bet', 'I-PER ##ts', 'B-MISC European']\n",
            "\n",
            "\n",
            "Potential customers were reassured by the catalogue, however, that gold analyses conducted by Jack Ogden of the Cambridge Centre for Precious Metal Research had guaranteed the authenticity of the material, and that in reply to a written enquiry the Greek Ministry of Culture had confirmed that the material was not stolen (Elia 1995: 121).\n",
            "['B-PER Jack', 'I-PER Ogden', 'B-ORG Cambridge', 'I-ORG Centre', 'I-ORG for', 'I-ORG Pre', 'I-ORG ##cious', 'I-ORG Metal', 'I-ORG Research', 'B-MISC Greek', 'B-ORG Ministry', 'I-ORG of', 'I-ORG Culture', 'B-LOC Eli']\n",
            "\n",
            "\n",
            "The asking price for the assemblage was US$1.5 million (Elia 1995: 120).\n",
            "['B-MISC US', 'B-LOC Eli']\n",
            "\n",
            "\n",
            "On 4 April 1993, the display was trailed in the New York Times, where the objects were described as ‘rare gold baubles: small, ancient and radiant’ (Reif 1993a).\n",
            "['B-ORG New', 'I-ORG York', 'I-ORG Times', 'B-PER Re']\n",
            "\n",
            "\n",
            "Two days later, on 6 April, archaeologist Ricardo Elia alerted the Consul General of Greece in New York to the material on display (Elia 1995: 126, note 17; Honan 1993).\n",
            "['B-PER Ricardo', 'I-PER Eli', 'I-PER ##a', 'B-LOC Greece', 'B-LOC New', 'I-LOC York', 'B-LOC Eli', 'B-PER Hon']\n",
            "\n",
            "\n",
            "On 27 April 1993, archaeologist James Wright, who had worked at Nemea, informed the Greek Archaeological Service of his suspicion that the material might have been looted from Aidonia (Elia 1995: 126, note 17).\n",
            "['B-PER James', 'I-PER Wright', 'B-LOC N', 'I-LOC ##em', 'I-LOC ##ea', 'B-ORG Greek', 'I-ORG Archaeological', 'I-ORG Service', 'B-LOC Aid', 'I-LOC ##onia', 'B-LOC Eli', 'I-LOC ##a']\n",
            "\n",
            "\n",
            "After obtaining a copy of the catalogue, the Greek Ministry of Culture convened a committee of experts to investigate the possible origin of the material.\n",
            "['B-MISC Greek', 'I-ORG Ministry', 'I-ORG of', 'I-ORG Culture']\n",
            "\n",
            "\n"
          ]
        }
      ]
    }
  ]
}