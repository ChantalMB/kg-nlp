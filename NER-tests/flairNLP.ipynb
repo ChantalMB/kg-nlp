{
  "nbformat": 4,
  "nbformat_minor": 0,
  "metadata": {
    "colab": {
      "name": "flairNLP.ipynb",
      "provenance": [],
      "collapsed_sections": []
    },
    "kernelspec": {
      "name": "python3",
      "display_name": "Python 3"
    },
    "language_info": {
      "name": "python"
    }
  },
  "cells": [
    {
      "cell_type": "code",
      "metadata": {
        "id": "b1sJpr1tSege"
      },
      "source": [
        "!pip3 install flair"
      ],
      "execution_count": null,
      "outputs": []
    },
    {
      "cell_type": "code",
      "metadata": {
        "colab": {
          "base_uri": "https://localhost:8080/"
        },
        "id": "ir8Jc8n_IG7R",
        "outputId": "578daa73-f265-4fd9-d1bb-7041c97fab51"
      },
      "source": [
        "from flair.models import SequenceTagger\n",
        "from flair.data import Sentence\n",
        "\n",
        "\n",
        "tagger = SequenceTagger.load('ner')\n",
        "\n",
        "sentence = Sentence('George Washington went to Washington.')\n",
        "\n",
        "# predict NER tags\n",
        "tagger.predict(sentence)\n",
        "\n",
        "# print sentence with predicted tags\n",
        "print(sentence.to_tagged_string())\n",
        "\n",
        "# prints full spans of entity aka entire name/location/org instead of splitting them up\n",
        "for entity in sentence.get_spans('ner'):\n",
        "    print(entity)\n",
        "\n",
        "# makes phrase and all entities found within into a dictionary\n",
        "print(sentence.to_dict(tag_type='ner'))"
      ],
      "execution_count": null,
      "outputs": [
        {
          "output_type": "stream",
          "name": "stdout",
          "text": [
            "2021-11-03 01:09:56,101 --------------------------------------------------------------------------------\n",
            "2021-11-03 01:09:56,102 The model key 'ner' now maps to 'https://huggingface.co/flair/ner-english' on the HuggingFace ModelHub\n",
            "2021-11-03 01:09:56,104  - The most current version of the model is automatically downloaded from there.\n",
            "2021-11-03 01:09:56,108  - (you can alternatively manually download the original model at https://nlp.informatik.hu-berlin.de/resources/models/ner/en-ner-conll03-v0.4.pt)\n",
            "2021-11-03 01:09:56,109 --------------------------------------------------------------------------------\n",
            "2021-11-03 01:09:56,871 loading file /root/.flair/models/ner-english/4f4cdab26f24cb98b732b389e6cebc646c36f54cfd6e0b7d3b90b25656e4262f.8baa8ae8795f4df80b28e7f7b61d788ecbb057d1dc85aacb316f1bd02837a4a4\n",
            "None\n",
            "George <B-PER> Washington <E-PER> went to Washington <S-LOC> .\n",
            "Span [1,2]: \"George Washington\"   [− Labels: PER (0.9989)]\n",
            "Span [5]: \"Washington\"   [− Labels: LOC (0.9942)]\n",
            "{'text': 'George Washington went to Washington.', 'labels': [], 'entities': [{'text': 'George Washington', 'start_pos': 0, 'end_pos': 17, 'labels': [PER (0.9989)]}, {'text': 'Washington', 'start_pos': 26, 'end_pos': 36, 'labels': [LOC (0.9942)]}]}\n"
          ]
        }
      ]
    },
    {
      "cell_type": "code",
      "metadata": {
        "colab": {
          "base_uri": "https://localhost:8080/"
        },
        "id": "Gtf1cV3YTa53",
        "outputId": "b7a94ce8-6e66-4350-bc66-4acb5cf542d5"
      },
      "source": [
        "# Splitting sentences using Flair\n",
        "from flair.models import SequenceTagger\n",
        "from flair.tokenization import SegtokSentenceSplitter\n",
        "\n",
        "# example text with many sentences\n",
        "text = \"This is a sentence. This is another sentence. I love Berlin.\"\n",
        "\n",
        "# initialize sentence splitter\n",
        "splitter = SegtokSentenceSplitter()\n",
        "\n",
        "# use splitter to split text into list of sentences\n",
        "sentences = splitter.split(text)\n",
        "\n",
        "# predict tags for sentences\n",
        "tagger = SequenceTagger.load('ner')\n",
        "tagger.predict(sentences)\n",
        "\n",
        "# iterate through sentences and print predicted labels\n",
        "for sentence in sentences:\n",
        "    print(sentence.to_tagged_string())"
      ],
      "execution_count": null,
      "outputs": [
        {
          "output_type": "stream",
          "name": "stdout",
          "text": [
            "2021-11-03 01:17:33,548 --------------------------------------------------------------------------------\n",
            "2021-11-03 01:17:33,554 The model key 'ner' now maps to 'https://huggingface.co/flair/ner-english' on the HuggingFace ModelHub\n",
            "2021-11-03 01:17:33,555  - The most current version of the model is automatically downloaded from there.\n",
            "2021-11-03 01:17:33,557  - (you can alternatively manually download the original model at https://nlp.informatik.hu-berlin.de/resources/models/ner/en-ner-conll03-v0.4.pt)\n",
            "2021-11-03 01:17:33,558 --------------------------------------------------------------------------------\n",
            "2021-11-03 01:17:34,315 loading file /root/.flair/models/ner-english/4f4cdab26f24cb98b732b389e6cebc646c36f54cfd6e0b7d3b90b25656e4262f.8baa8ae8795f4df80b28e7f7b61d788ecbb057d1dc85aacb316f1bd02837a4a4\n",
            "{'text': 'This is a sentence.', 'labels': [], 'entities': []}\n",
            "{'text': 'This is another sentence.', 'labels': [], 'entities': []}\n",
            "{'text': 'I love Berlin.', 'labels': [], 'entities': [{'text': 'Berlin', 'start_pos': 7, 'end_pos': 13, 'labels': [LOC (0.999)]}]}\n"
          ]
        }
      ]
    },
    {
      "cell_type": "code",
      "metadata": {
        "colab": {
          "base_uri": "https://localhost:8080/"
        },
        "id": "KHzSE_ZjWYKb",
        "outputId": "0df2a308-f9ee-4bd8-d913-28b32ad1b219"
      },
      "source": [
        "# test with own data\n",
        "from flair.models import SequenceTagger\n",
        "from flair.tokenization import SegtokSentenceSplitter\n",
        "\n",
        "with open('text1-chunk.txt', 'r') as file:\n",
        "    text = file.read()\n",
        "\n",
        "splitter = SegtokSentenceSplitter()\n",
        "sentences = splitter.split(text)\n",
        "\n",
        "tagger = SequenceTagger.load('ner')\n",
        "tagger.predict(sentences)\n",
        "\n",
        "# list of dicts \n",
        "ner_tags = []\n",
        "for sentence in sentences:\n",
        "    ner_tags.append(sentence.to_dict(tag_type='ner'))\n",
        "\n",
        "for i in ner_tags:\n",
        "  print(i.get('text') + '\\n')\n",
        "  for j in i.get('entities'):\n",
        "    word = j.get('text')\n",
        "    label = j.get('labels')\n",
        "    print(str(label) + ' ' + word)"
      ],
      "execution_count": null,
      "outputs": [
        {
          "output_type": "stream",
          "name": "stdout",
          "text": [
            "2021-11-03 01:48:21,464 --------------------------------------------------------------------------------\n",
            "2021-11-03 01:48:21,466 The model key 'ner' now maps to 'https://huggingface.co/flair/ner-english' on the HuggingFace ModelHub\n",
            "2021-11-03 01:48:21,467  - The most current version of the model is automatically downloaded from there.\n",
            "2021-11-03 01:48:21,469  - (you can alternatively manually download the original model at https://nlp.informatik.hu-berlin.de/resources/models/ner/en-ner-conll03-v0.4.pt)\n",
            "2021-11-03 01:48:21,470 --------------------------------------------------------------------------------\n",
            "2021-11-03 01:48:22,238 loading file /root/.flair/models/ner-english/4f4cdab26f24cb98b732b389e6cebc646c36f54cfd6e0b7d3b90b25656e4262f.8baa8ae8795f4df80b28e7f7b61d788ecbb057d1dc85aacb316f1bd02837a4a4\n",
            "The Aidonia Treasure is a collection of Mycenaean gold and jewelry returned to Greece in 1996 and thought to have been robbed from a cemetery at Aidonia in the late 1970s.\n",
            "\n",
            "[MISC (0.6894)] Aidonia Treasure\n",
            "[MISC (0.9947)] Mycenaean\n",
            "[LOC (0.9994)] Greece\n",
            "[LOC (0.9992)] Aidonia\n",
            "Aidonia is a village ten kilometres northwest of Nemea in the northeastern Peloponnesian district of Corinthia in Greece.\n",
            "\n",
            "[LOC (0.9969)] Aidonia\n",
            "[LOC (0.9996)] Nemea\n",
            "[MISC (0.9992)] Peloponnesian\n",
            "[LOC (0.9972)] Corinthia\n",
            "[LOC (0.9999)] Greece\n",
            "In November 1976, a Mycenaean (fifteenth-century BC) cemetery was discovered not far from the village, and the tombs were dug out illegally by local archaiokapiloi (a term used for looters in Greece).\n",
            "\n",
            "[MISC (0.9635)] Mycenaean\n",
            "[MISC (0.9708)] BC\n",
            "[LOC (0.9998)] Greece\n",
            "There were reports of a gun battle between rival gangs of archaiokapiloi, and evidence that local government officials had sanctioned and even participated in the plunder.\n",
            "\n",
            "Looted objects were rumoured to have been smuggled out of Greece hidden in watermelons.\n",
            "\n",
            "[LOC (0.9998)] Greece\n",
            "In November 1977, the Greek Archaeological Service assigned a guard to the site, and in Spring 1978 it commenced official excavations.\n",
            "\n",
            "[ORG (0.9854)] Greek Archaeological Service\n",
            "Twenty chamber tombs were discovered, but only two had survived untouched.\n",
            "\n",
            "The remaining eighteen tombs had been largely emptied of their contents, though in one, the looters had overlooked a pit dug into the floor of the tomb.\n",
            "\n",
            "After excavation, it was found to contain an assemblage of gold jewelry.\n",
            "\n",
            "(Mycenaean chamber tombs typically contain several interments and may be richly furnished with pottery, metalwork and jewelry).\n",
            "\n",
            "[MISC (0.9258)] Mycenaean\n",
            "Nothing much was heard outside Greece about the plundered Aidonia cemetery until April 1993, when New York’s Michael Ward Gallery offered on display for sale a collection comprising approximately fifty items of Mycenean gold jewelry and sealstones.\n",
            "\n",
            "[LOC (0.9994)] Greece\n",
            "[LOC (0.9328)] Aidonia\n",
            "[LOC (0.9792)] New York\n",
            "[ORG (0.8197)] Michael Ward Gallery\n",
            "[MISC (0.9616)] Mycenean\n",
            "A catalogue accompanying the display entitled Gold of the Mycenaeans, with an introduction and object descriptions by archaeologist John Betts, could only offer ‘a European collector’ for provenance.\n",
            "\n",
            "[MISC (0.9762)] Gold of the Mycenaeans\n",
            "[PER (0.9998)] John Betts\n",
            "[MISC (0.996)] European\n",
            "Potential customers were reassured by the catalogue, however, that gold analyses conducted by Jack Ogden of the Cambridge Centre for Precious Metal Research had guaranteed the authenticity of the material, and that in reply to a written enquiry the Greek Ministry of Culture had confirmed that the material was not stolen.\n",
            "\n",
            "[PER (0.9986)] Jack Ogden\n",
            "[ORG (0.9561)] Cambridge Centre for Precious Metal Research\n",
            "[MISC (0.7147)] Greek\n",
            "[ORG (0.8662)] Ministry of Culture\n",
            "The asking price for the assemblage was US$1.5 million.\n",
            "\n",
            "[LOC (0.9904)] US\n",
            "On 4 April 1993, the display was trailed in the New York Times, where the objects were described as ‘rare gold baubles: small, ancient and radiant’.\n",
            "\n",
            "[ORG (0.901)] New York Times\n",
            "Two days later, on 6 April, archaeologist Ricardo Elia alerted the Consul General of Greece in New York to the material on display.\n",
            "\n",
            "[PER (0.9998)] Ricardo Elia\n",
            "[ORG (0.8191)] Consul General\n",
            "[LOC (0.8846)] Greece\n",
            "[LOC (0.9995)] New York\n",
            "On 27 April 1993, archaeologist James Wright, who had worked at Nemea, informed the Greek Archaeological Service of his suspicion that the material might have been looted from Aidonia.\n",
            "\n",
            "[PER (0.9992)] James Wright\n",
            "[LOC (0.9141)] Nemea\n",
            "[ORG (0.9648)] Greek Archaeological Service\n",
            "[LOC (0.9964)] Aidonia\n",
            "After obtaining a copy of the catalogue, the Greek Ministry of Culture convened a committee of experts to investigate the possible origin of the material.\n",
            "\n",
            "[ORG (0.8645)] Greek Ministry of Culture\n"
          ]
        }
      ]
    }
  ]
}