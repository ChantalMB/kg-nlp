{
  "nbformat": 4,
  "nbformat_minor": 0,
  "metadata": {
    "colab": {
      "name": "polygot.ipynb",
      "provenance": []
    },
    "kernelspec": {
      "name": "python3",
      "display_name": "Python 3"
    },
    "language_info": {
      "name": "python"
    }
  },
  "cells": [
    {
      "cell_type": "code",
      "metadata": {
        "colab": {
          "base_uri": "https://localhost:8080/"
        },
        "id": "OFHLZamH13By",
        "outputId": "1e68efaf-8bd3-4a96-da07-b8bdf992b819"
      },
      "source": [
        "!pip install polyglot"
      ],
      "execution_count": 1,
      "outputs": [
        {
          "output_type": "stream",
          "name": "stdout",
          "text": [
            "Collecting polyglot\n",
            "  Downloading polyglot-16.7.4.tar.gz (126 kB)\n",
            "\u001b[K     |████████████████████████████████| 126 kB 1.7 MB/s \n",
            "\u001b[?25hBuilding wheels for collected packages: polyglot\n",
            "  Building wheel for polyglot (setup.py) ... \u001b[?25l\u001b[?25hdone\n",
            "  Created wheel for polyglot: filename=polyglot-16.7.4-py2.py3-none-any.whl size=52578 sha256=6082aae2e3c01bc4429f81841d5c2ca09ec6a8008428f1d042185dcd12434146\n",
            "  Stored in directory: /root/.cache/pip/wheels/09/bc/67/75c9de8e9726460bc0b101ad225ad025cb8ce9e0759beb9d52\n",
            "Successfully built polyglot\n",
            "Installing collected packages: polyglot\n",
            "Successfully installed polyglot-16.7.4\n"
          ]
        }
      ]
    },
    {
      "cell_type": "code",
      "metadata": {
        "colab": {
          "base_uri": "https://localhost:8080/"
        },
        "id": "awD2W1wn2u3a",
        "outputId": "ab8dbc08-612c-4397-d872-12a1cd26ae98"
      },
      "source": [
        "!pip install pyicu\n",
        "!pip install pycld2\n",
        "!pip install morfessor"
      ],
      "execution_count": 7,
      "outputs": [
        {
          "output_type": "stream",
          "name": "stdout",
          "text": [
            "Collecting pyicu\n",
            "  Downloading PyICU-2.8.tar.gz (299 kB)\n",
            "\u001b[K     |████████████████████████████████| 299 kB 1.5 MB/s \n",
            "\u001b[?25h  Installing build dependencies ... \u001b[?25l\u001b[?25hdone\n",
            "  Getting requirements to build wheel ... \u001b[?25l\u001b[?25hdone\n",
            "    Preparing wheel metadata ... \u001b[?25l\u001b[?25hdone\n",
            "Building wheels for collected packages: pyicu\n",
            "  Building wheel for pyicu (PEP 517) ... \u001b[?25l\u001b[?25hdone\n",
            "  Created wheel for pyicu: filename=PyICU-2.8-cp37-cp37m-linux_x86_64.whl size=1377003 sha256=cc18fb4dfaf9d12189acc62f52c4c09d380f03c8e89100a26b9e3c22a1db305e\n",
            "  Stored in directory: /root/.cache/pip/wheels/14/bd/45/aeddc643bd0637c14fa27bffaee5b411cdc323f8bec76ad15e\n",
            "Successfully built pyicu\n",
            "Installing collected packages: pyicu\n",
            "Successfully installed pyicu-2.8\n",
            "Collecting pycld2\n",
            "  Downloading pycld2-0.41.tar.gz (41.4 MB)\n",
            "\u001b[K     |████████████████████████████████| 41.4 MB 38 kB/s \n",
            "\u001b[?25hBuilding wheels for collected packages: pycld2\n",
            "  Building wheel for pycld2 (setup.py) ... \u001b[?25l\u001b[?25hdone\n",
            "  Created wheel for pycld2: filename=pycld2-0.41-cp37-cp37m-linux_x86_64.whl size=9834259 sha256=589e67625715e54e5e5000bc939fcd3cecac67c3a8201ea06c5d0a6472440cd7\n",
            "  Stored in directory: /root/.cache/pip/wheels/ed/e4/58/ed2e9f43c07d617cc81fe7aff0fc6e42b16c9cf6afe960b614\n",
            "Successfully built pycld2\n",
            "Installing collected packages: pycld2\n",
            "Successfully installed pycld2-0.41\n",
            "Collecting morfessor\n",
            "  Downloading Morfessor-2.0.6-py3-none-any.whl (35 kB)\n",
            "Installing collected packages: morfessor\n",
            "Successfully installed morfessor-2.0.6\n"
          ]
        }
      ]
    },
    {
      "cell_type": "code",
      "metadata": {
        "colab": {
          "base_uri": "https://localhost:8080/"
        },
        "id": "Ka1RG86S4w2D",
        "outputId": "0c5cef1c-69cf-4510-93bd-7453ea7ec709"
      },
      "source": [
        "!polyglot download embeddings2.en ner2.en"
      ],
      "execution_count": 10,
      "outputs": [
        {
          "output_type": "stream",
          "name": "stdout",
          "text": [
            "[polyglot_data] Downloading package embeddings2.en to\n",
            "[polyglot_data]     /root/polyglot_data...\n",
            "[polyglot_data]   Package embeddings2.en is already up-to-date!\n",
            "[polyglot_data] Downloading package ner2.en to /root/polyglot_data...\n",
            "[polyglot_data]   Package ner2.en is already up-to-date!\n"
          ]
        }
      ]
    },
    {
      "cell_type": "code",
      "metadata": {
        "colab": {
          "base_uri": "https://localhost:8080/"
        },
        "id": "nwEZPaBc2gVO",
        "outputId": "9bb3d845-6481-49d7-896a-0d461c7bc489"
      },
      "source": [
        "# example\n",
        "import polyglot\n",
        "from polyglot.text import Text\n",
        "\n",
        "blob = \"\"\"The Israeli Prime Minister Benjamin Netanyahu has warned that Iran poses a \"threat to the entire world\".\"\"\"\n",
        "text = Text(blob)\n",
        "\n",
        "for sent in text.sentences:\n",
        "  print(sent, \"\\n\")\n",
        "  for entity in sent.entities:\n",
        "    print(entity.tag, entity)"
      ],
      "execution_count": 11,
      "outputs": [
        {
          "output_type": "stream",
          "name": "stdout",
          "text": [
            "The Israeli Prime Minister Benjamin Netanyahu has warned that Iran poses a \"threat to the entire world\". \n",
            "\n",
            "I-ORG ['Israeli']\n",
            "I-PER ['Benjamin', 'Netanyahu']\n",
            "I-LOC ['Iran']\n"
          ]
        }
      ]
    },
    {
      "cell_type": "code",
      "metadata": {
        "colab": {
          "base_uri": "https://localhost:8080/"
        },
        "id": "4VziDThS47BI",
        "outputId": "9d8de980-9437-4862-cee7-c92e952ccbcd"
      },
      "source": [
        "# try with our own text\n",
        "import nltk\n",
        "from nltk.tokenize import word_tokenize, sent_tokenize\n",
        "nltk.download('punkt')\n",
        "nltk.download('averaged_perceptron_tagger')\n",
        "\n",
        "with open('text1-chunk.txt', 'r') as file:\n",
        "    article = file.read()\n",
        "\n",
        "sentences = sent_tokenize(article)\n",
        "\n",
        "for i in sentences:\n",
        "  text = Text(i)\n",
        "  for sent in text.sentences:\n",
        "    print(sent, \"\\n\")\n",
        "  for entity in sent.entities:\n",
        "    print(entity.tag, entity)\n"
      ],
      "execution_count": 15,
      "outputs": [
        {
          "output_type": "stream",
          "name": "stdout",
          "text": [
            "[nltk_data] Downloading package punkt to /root/nltk_data...\n",
            "[nltk_data]   Unzipping tokenizers/punkt.zip.\n",
            "[nltk_data] Downloading package averaged_perceptron_tagger to\n",
            "[nltk_data]     /root/nltk_data...\n",
            "[nltk_data]   Unzipping taggers/averaged_perceptron_tagger.zip.\n",
            "The Aidonia Treasure is a collection of Mycenaean gold and jewelry returned to Greece in 1996 and thought to have been robbed from a cemetery at Aidonia in the late 1970s. \n",
            "\n",
            "I-LOC ['Greece']\n",
            "I-LOC ['Aidonia']\n",
            "Aidonia is a village ten kilometres northwest of Nemea in the northeastern Peloponnesian district of Corinthia in Greece. \n",
            "\n",
            "I-LOC ['Nemea']\n",
            "I-LOC ['Peloponnesian']\n",
            "I-LOC ['Corinthia']\n",
            "I-LOC ['Greece']\n",
            "In November 1976, a Mycenaean (fifteenth-century BC) cemetery was discovered not far from the village, and the tombs were dug out illegally by local archaiokapiloi (a term used for looters in Greece). \n",
            "\n",
            "I-LOC ['Greece']\n",
            "There were reports of a gun battle between rival gangs of archaiokapiloi, and evidence that local government officials had sanctioned and even participated in the plunder. \n",
            "\n",
            "Looted objects were rumoured to have been smuggled out of Greece hidden in watermelons. \n",
            "\n",
            "I-LOC ['Greece']\n",
            "In November 1977, the Greek Archaeological Service assigned a guard to the site, and in Spring 1978 it commenced official excavations. \n",
            "\n",
            "I-ORG ['Archaeological', 'Service']\n",
            "Twenty chamber tombs were discovered, but only two had survived untouched. \n",
            "\n",
            "The remaining eighteen tombs had been largely emptied of their contents, though in one, the looters had overlooked a pit dug into the floor of the tomb. \n",
            "\n",
            "After excavation, it was found to contain an assemblage of gold jewelry. \n",
            "\n",
            "(Mycenaean chamber tombs typically contain several interments and may be richly furnished with pottery, metalwork and jewelry). \n",
            "\n",
            "Nothing much was heard outside Greece about the plundered Aidonia cemetery until April 1993, when New York’s Michael Ward Gallery offered on display for sale a collection comprising approximately fifty items of Mycenean gold jewelry and sealstones. \n",
            "\n",
            "I-LOC ['Greece']\n",
            "I-PER ['Michael', 'Ward']\n",
            "A catalogue accompanying the display entitled Gold of the Mycenaeans, with an introduction and object descriptions by archaeologist John Betts, could only offer ‘a European collector’ for provenance. \n",
            "\n",
            "I-PER ['John', 'Betts']\n",
            "Potential customers were reassured by the catalogue, however, that gold analyses conducted by Jack Ogden of the Cambridge Centre for Precious Metal Research had guaranteed the authenticity of the material, and that in reply to a written enquiry the Greek Ministry of Culture had confirmed that the material was not stolen. \n",
            "\n",
            "I-PER ['Jack', 'Ogden']\n",
            "I-ORG ['Cambridge', 'Centre']\n",
            "I-ORG ['Precious', 'Metal', 'Research']\n",
            "I-ORG ['Greek', 'Ministry', 'of', 'Culture']\n",
            "The asking price for the assemblage was US$1.5 million. \n",
            "\n",
            "On 4 April 1993, the display was trailed in the New York Times, where the objects were described as ‘rare gold baubles: small, ancient and radiant’. \n",
            "\n",
            "I-ORG ['New', 'York', 'Times']\n",
            "Two days later, on 6 April, archaeologist Ricardo Elia alerted the Consul General of Greece in New York to the material on display. \n",
            "\n",
            "I-PER ['Ricardo', 'Elia']\n",
            "I-LOC ['Greece']\n",
            "I-LOC ['New', 'York']\n",
            "On 27 April 1993, archaeologist James Wright, who had worked at Nemea, informed the Greek Archaeological Service of his suspicion that the material might have been looted from Aidonia. \n",
            "\n",
            "I-PER ['James', 'Wright']\n",
            "I-ORG ['Nemea']\n",
            "I-ORG ['Archaeological', 'Service']\n",
            "I-LOC ['Aidonia']\n",
            "After obtaining a copy of the catalogue, the Greek Ministry of Culture convened a committee of experts to investigate the possible origin of the material. \n",
            "\n",
            "I-ORG ['Greek', 'Ministry', 'of', 'Culture']\n"
          ]
        }
      ]
    }
  ]
}